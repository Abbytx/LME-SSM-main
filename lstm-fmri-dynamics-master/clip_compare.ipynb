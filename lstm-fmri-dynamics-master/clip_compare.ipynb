{
 "cells": [
  {
   "cell_type": "code",
   "execution_count": null,
   "metadata": {},
   "outputs": [],
   "source": [
    "import numpy as np\n",
    "import pandas as pd\n",
    "import pickle\n",
    "import os\n",
    "from cc_utils import _get_clip_labels\n",
    "\n",
    "# plot\n",
    "import plotly.graph_objs as go\n",
    "import plotly.io as pio\n",
    "import plotly.express as px\n",
    "from plotly.subplots import make_subplots\n",
    "pio.templates.default = 'plotly_white'\n",
    "from plot_utils import _hex_to_rgb, _plot_ts\n",
    "\n",
    "#colors = px.colors.qualitative.Plotly\n",
    "colors = [\"#D55E00\", \"#009E73\", \"#56B4E9\", \"#E69F00\"]"
   ]
  },
  {
   "cell_type": "code",
   "execution_count": null,
   "metadata": {
    "code_folding": [
     0
    ]
   },
   "outputs": [],
   "source": [
    "class ARGS():\n",
    "    roi = 300\n",
    "    net = 7\n",
    "    subnet = 'wb'\n",
    "    zscore = 1\n",
    "    k_fold = 10\n",
    "    k_hidden = 150\n",
    "    batch_size = 16\n",
    "    num_epochs = 50\n",
    "    train_size = 100\n",
    "    \n",
    "    #lstm\n",
    "    lstm_layers = 1\n",
    "    \n",
    "    #tcn\n",
    "    tcn_wind = 10\n",
    "    \n",
    "    #ff\n",
    "    ff_layers = 5"
   ]
  },
  {
   "cell_type": "code",
   "execution_count": null,
   "metadata": {},
   "outputs": [],
   "source": [
    "args = ARGS()"
   ]
  },
  {
   "cell_type": "code",
   "execution_count": null,
   "metadata": {},
   "outputs": [],
   "source": [
    "RES_DIR = {}\n",
    "RES_DIR['ff'] = 'results/clip_ff'\n",
    "RES_DIR['tcn'] = 'results/clip_tcn'\n",
    "RES_DIR['lstm'] = 'results/clip_lstm'"
   ]
  },
  {
   "cell_type": "code",
   "execution_count": null,
   "metadata": {
    "code_folding": [
     0
    ]
   },
   "outputs": [],
   "source": [
    "def _get_results(args, model):\n",
    "    \n",
    "    if model=='lstm':\n",
    "        k_layers = args.lstm_layers\n",
    "    elif model=='ff':\n",
    "        k_layers = args.ff_layers\n",
    "    \n",
    "    if model=='tcn':\n",
    "        load_path = (RES_DIR['tcn'] + \n",
    "            '/roi_%d_net_%d' %(args.roi, args.net) + \n",
    "            '_nw_%s' %(args.subnet) +\n",
    "            '_trainsize_%d' %(args.train_size) +\n",
    "            '_kfold_%d_k_hidden_%d' %(args.k_fold, args.k_hidden) +\n",
    "            '_k_wind_%d_batch_size_%d' %(args.tcn_wind, args.batch_size) +\n",
    "            '_num_epochs_%d_z_%d.pkl' %(args.num_epochs, args.zscore))\n",
    "        \n",
    "    else:\n",
    "        load_path = (RES_DIR[model] + \n",
    "            '/roi_%d_net_%d' %(args.roi, args.net) + \n",
    "            '_nw_%s' %(args.subnet) +\n",
    "            '_trainsize_%d' %(args.train_size) +\n",
    "            '_kfold_%d_k_hidden_%d' %(args.k_fold, args.k_hidden) +\n",
    "            '_k_layers_%d_batch_size_%d' %(k_layers, args.batch_size) +\n",
    "            '_num_epochs_%d_z_%d.pkl' %(args.num_epochs, args.zscore))\n",
    "    \n",
    "    with open(load_path, 'rb') as f:\n",
    "        r = pickle.load(f)\n",
    "    \n",
    "    return r"
   ]
  },
  {
   "cell_type": "code",
   "execution_count": null,
   "metadata": {
    "code_folding": [
     0
    ]
   },
   "outputs": [],
   "source": [
    "def _compare_mean(models, mode='train_mode'):\n",
    "    '''\n",
    "    compare mean accuracy for each model\n",
    "    '''\n",
    "    fig = go.Figure()\n",
    "    ticktext = []\n",
    "    for ii, m in enumerate(models):\n",
    "        if m[0]=='ff':\n",
    "            args.ff_layers = m[1]\n",
    "        elif m[0]=='tcn':\n",
    "            args.tcn_wind = m[1]\n",
    "        elif m[0]=='lstm':\n",
    "            args.lstm_layers = m[1]\n",
    "        ticktext.append(m[2])\n",
    "        \n",
    "        r = _get_results(args, m[0])[mode]\n",
    "        if mode=='train_mode':\n",
    "            tag = 'val'\n",
    "            multiplier = 3\n",
    "        elif mode=='test_mode':\n",
    "            tag = 'test'\n",
    "            multiplier = 1\n",
    "            \n",
    "        y = np.mean(r[tag])\n",
    "        err_y = 1/np.sqrt(args.k_fold)*np.std(r[tag])\n",
    "\n",
    "        bar = go.Bar(x=[ii], y=[y],\n",
    "            error_y=dict(type='data',\n",
    "                array=[multiplier*err_y], width=9),\n",
    "            name=m[2],\n",
    "            showlegend=True,\n",
    "            marker_color=colors[ii])\n",
    "        fig.add_trace(bar)\n",
    "\n",
    "    fig.update_yaxes(range=[0, 1],\n",
    "        title=dict(text='Clip Prediction Accuracy',\n",
    "            font_size=25),\n",
    "        gridwidth=1, gridcolor='#bfbfbf',\n",
    "        tickfont=dict(size=20))\n",
    "    fig.update_xaxes(showticklabels=False)\n",
    "    fig.update_layout(height=500, width=450,\n",
    "        font_color='black',\n",
    "        legend_orientation='h',\n",
    "        legend_font_size=20,\n",
    "        legend_x=-0.1)\n",
    "    \n",
    "    return fig"
   ]
  },
  {
   "cell_type": "code",
   "execution_count": null,
   "metadata": {
    "code_folding": [
     0
    ]
   },
   "outputs": [],
   "source": [
    "def _compare_temporal(models, clipnames, mode='train_mode'):\n",
    "    '''\n",
    "    compare temporal accuracy for each model\n",
    "    '''\n",
    "    k_class = len(clip_names)\n",
    "    k_rows = int(np.ceil(k_class/3))\n",
    "    k_cols = 3\n",
    "    fig = make_subplots(rows=k_rows, cols=k_cols, \n",
    "        subplot_titles=clip_names, print_grid=False)\n",
    "    \n",
    "    fig_clip = {}\n",
    "    for clip in clipnames:\n",
    "        fig_clip[clip] = go.Figure()\n",
    "        \n",
    "    for ii, m in enumerate(models):\n",
    "        if m[0]=='ff':\n",
    "            args.ff_layers = m[1]\n",
    "        elif m[0]=='tcn':\n",
    "            args.tcn_wind = m[1]\n",
    "        elif m[0]=='lstm':\n",
    "            args.lstm_layers = m[1]\n",
    "        \n",
    "        r = _get_results(args, m[0])[mode]\n",
    "        if mode=='train_mode':\n",
    "            tag = 't_val'\n",
    "        elif mode=='test_mode':\n",
    "            tag = 't_test'\n",
    "        name = m[2]\n",
    "\n",
    "        max_time = -100\n",
    "        for jj in range(k_class):\n",
    "            row = int(jj/k_cols) + 1\n",
    "            col = (jj%k_cols) + 1\n",
    "\n",
    "            showlegend = False\n",
    "            if jj == 0:\n",
    "                showlegend = True\n",
    "\n",
    "            acc = r[tag][jj]\n",
    "            ts = {'mean': np.mean(acc, axis=0),\n",
    "                'ste': 1/np.sqrt(len(acc)) * np.std(acc, axis=0)}\n",
    "\n",
    "            plotter = _plot_ts(ts, colors[ii],\n",
    "                showlegend=showlegend, name=name)\n",
    "            for trace in plotter:\n",
    "                fig.add_trace(plotter[trace], row, col)\n",
    "            for trace in plotter:\n",
    "                fig_clip[clipnames[jj]].add_trace(plotter[trace])\n",
    "\n",
    "            if len(ts['mean']) > max_time:\n",
    "                max_time = len(ts['mean'])\n",
    "\n",
    "    fig.update_layout(height=int(250*k_rows), width=750,\n",
    "        legend_orientation='h')\n",
    "    fig.update_xaxes(range=[0, max_time], dtick=30, \n",
    "        title_text='time (in s)',\n",
    "        showgrid=False,\n",
    "        autorange=False)\n",
    "    fig.update_yaxes(range=[0, 1], dtick=0.2,\n",
    "        gridwidth=1, gridcolor='#bfbfbf',\n",
    "        autorange=False)\n",
    "    \n",
    "    return fig, fig_clip"
   ]
  },
  {
   "cell_type": "code",
   "execution_count": null,
   "metadata": {},
   "outputs": [],
   "source": [
    "clip_y = _get_clip_labels()\n",
    "k_class = len(np.unique(list(clip_y.values())))\n",
    "print('number of classes = %d' %k_class)\n",
    "\n",
    "clip_names = np.zeros(k_class).astype(str)\n",
    "clip_names[0] = 'testretest'\n",
    "for key, item in clip_y.items():\n",
    "    if item!=0:\n",
    "        clip_names[item] = key"
   ]
  },
  {
   "cell_type": "markdown",
   "metadata": {},
   "source": [
    "# TEST MODE"
   ]
  },
  {
   "cell_type": "code",
   "execution_count": null,
   "metadata": {},
   "outputs": [],
   "source": [
    "table = []\n",
    "for model, file in RES_DIR.items():\n",
    "    entry = {}\n",
    "    entry['model'] = model\n",
    "    r = _get_results(args, model)['test_mode']\n",
    "    entry['train'] = np.mean(r['train'])\n",
    "    entry['test'] = np.mean(r['test'])\n",
    "    \n",
    "    table.append(entry)\n",
    "\n",
    "df = pd.DataFrame(table)\n",
    "df"
   ]
  },
  {
   "cell_type": "code",
   "execution_count": null,
   "metadata": {},
   "outputs": [],
   "source": [
    "# model: (name, param, abbrev)\n",
    "\n",
    "models = [('ff', 5, 'FF: (D=5)'), \n",
    "    ('tcn', 10, 'TCN: (W=10)'), \n",
    "    ('tcn', 50, 'TCN: (W=50)'),\n",
    "    ('lstm', 1, 'LSTM')]\n",
    "\n",
    "fig = _compare_mean(models, mode='test_mode')\n",
    "fig.show()\n",
    "fig_mean = go.Figure(fig)"
   ]
  },
  {
   "cell_type": "code",
   "execution_count": null,
   "metadata": {
    "code_folding": []
   },
   "outputs": [],
   "source": [
    "# model: (name, param, abbrev)\n",
    "\n",
    "models = [('ff', 5, 'FF: (D=5)'), \n",
    "    ('tcn', 10, 'TCN: (W=10)'), \n",
    "    ('tcn', 50, 'TCN: (W=50)'),\n",
    "    ('lstm', 1, 'LSTM')]\n",
    "\n",
    "fig, fig_clip = _compare_temporal(models, clip_names,\n",
    "    mode='test_mode')\n",
    "fig.show()"
   ]
  },
  {
   "cell_type": "code",
   "execution_count": null,
   "metadata": {},
   "outputs": [],
   "source": [
    "clip = 'socialnet'\n",
    "fig = fig_clip[clip]\n",
    "fig.update_yaxes(range=[0, 1],\n",
    "#     title=dict(text='Clip Prediction Accuracy',\n",
    "#         font_size=25),\n",
    "    gridwidth=1, gridcolor='#bfbfbf',\n",
    "    tickfont=dict(size=20))\n",
    "fig.update_xaxes(tickfont=dict(size=20),\n",
    "    dtick=30,\n",
    "    title=dict(text='Time (in s)', font_size=20))\n",
    "fig.update_layout(height=470, width=550,\n",
    "    showlegend=False,\n",
    "    font_color='black',\n",
    "    title='')\n",
    "fig.show()"
   ]
  },
  {
   "cell_type": "code",
   "execution_count": null,
   "metadata": {},
   "outputs": [],
   "source": []
  }
 ],
 "metadata": {
  "kernelspec": {
   "display_name": "Python 3",
   "language": "python",
   "name": "python3"
  },
  "language_info": {
   "codemirror_mode": {
    "name": "ipython",
    "version": 3
   },
   "file_extension": ".py",
   "mimetype": "text/x-python",
   "name": "python",
   "nbconvert_exporter": "python",
   "pygments_lexer": "ipython3",
   "version": "3.6.8"
  }
 },
 "nbformat": 4,
 "nbformat_minor": 2
}
